{
 "cells": [
  {
   "cell_type": "markdown",
   "metadata": {},
   "source": [
    "# Denuncias Defensa del Consumidor"
   ]
  },
  {
   "cell_type": "markdown",
   "metadata": {},
   "source": [
    "**En el siguiente trabajo se tratará un dataset que posee un listado con información de las denuncias realizadas en la Dirección General de Defensa y Protección al Consumidor de la provincia de Buenos Aires.**\n",
    "\n",
    "*Enlace* <a href=\"https://data.buenosaires.gob.ar/dataset/denuncias-defensa-consumidor\">*aquí*</a>"
   ]
  },
  {
   "cell_type": "markdown",
   "metadata": {},
   "source": [
    "----"
   ]
  },
  {
   "cell_type": "code",
   "execution_count": 60,
   "metadata": {},
   "outputs": [],
   "source": [
    "import pandas as pd\n",
    "import re\n",
    "import matplotlib.pyplot as plt"
   ]
  },
  {
   "cell_type": "code",
   "execution_count": 2,
   "metadata": {},
   "outputs": [],
   "source": [
    "data = pd.read_csv('denuncias-defensa-del-consumidor.csv', sep=';')"
   ]
  },
  {
   "cell_type": "code",
   "execution_count": 3,
   "metadata": {},
   "outputs": [
    {
     "data": {
      "text/html": [
       "<div>\n",
       "<style scoped>\n",
       "    .dataframe tbody tr th:only-of-type {\n",
       "        vertical-align: middle;\n",
       "    }\n",
       "\n",
       "    .dataframe tbody tr th {\n",
       "        vertical-align: top;\n",
       "    }\n",
       "\n",
       "    .dataframe thead th {\n",
       "        text-align: right;\n",
       "    }\n",
       "</style>\n",
       "<table border=\"1\" class=\"dataframe\">\n",
       "  <thead>\n",
       "    <tr style=\"text-align: right;\">\n",
       "      <th></th>\n",
       "      <th>DenunciaID</th>\n",
       "      <th>Fecha_Creacion</th>\n",
       "      <th>Comuna</th>\n",
       "      <th>Motivo_Denuncia</th>\n",
       "      <th>Rubro</th>\n",
       "    </tr>\n",
       "  </thead>\n",
       "  <tbody>\n",
       "    <tr>\n",
       "      <th>0</th>\n",
       "      <td>1999</td>\n",
       "      <td>2019-01-02 11:07:51</td>\n",
       "      <td>11</td>\n",
       "      <td>Garantia de Bienes. Art 11  Ley 24.240 - Falta...</td>\n",
       "      <td>ELECTRODOMESTICOS Y ARTEFACTOS PARA EL HOGAR</td>\n",
       "    </tr>\n",
       "    <tr>\n",
       "      <th>1</th>\n",
       "      <td>2000</td>\n",
       "      <td>2019-01-02 11:10:31</td>\n",
       "      <td>11</td>\n",
       "      <td>Falta de cumplimento garantia posventa</td>\n",
       "      <td>ELECTRODOMESTICOS Y ARTEFACTOS PARA EL HOGAR</td>\n",
       "    </tr>\n",
       "    <tr>\n",
       "      <th>2</th>\n",
       "      <td>2001</td>\n",
       "      <td>2019-01-02 11:31:03</td>\n",
       "      <td>11</td>\n",
       "      <td>Practicas Abusivas - Venta Enganosa</td>\n",
       "      <td>SERVICIOS FINANCIEROS (TARJETAS DE CREDITO, BA...</td>\n",
       "    </tr>\n",
       "    <tr>\n",
       "      <th>3</th>\n",
       "      <td>2002</td>\n",
       "      <td>2019-01-02 12:19:49</td>\n",
       "      <td>11</td>\n",
       "      <td>Garantia de Bienes. Art 11  Ley 24.240 - Repar...</td>\n",
       "      <td>ELECTRODOMESTICOS Y ARTEFACTOS PARA EL HOGAR</td>\n",
       "    </tr>\n",
       "    <tr>\n",
       "      <th>4</th>\n",
       "      <td>2003</td>\n",
       "      <td>2019-01-02 15:02:31</td>\n",
       "      <td>11</td>\n",
       "      <td>Garantia de Bienes. Art 11  Ley 24.240 - Repar...</td>\n",
       "      <td>ELECTRODOMESTICOS Y ARTEFACTOS PARA EL HOGAR</td>\n",
       "    </tr>\n",
       "    <tr>\n",
       "      <th>...</th>\n",
       "      <td>...</td>\n",
       "      <td>...</td>\n",
       "      <td>...</td>\n",
       "      <td>...</td>\n",
       "      <td>...</td>\n",
       "    </tr>\n",
       "    <tr>\n",
       "      <th>33047</th>\n",
       "      <td>30886</td>\n",
       "      <td>2020-09-30 12:26:56</td>\n",
       "      <td>14</td>\n",
       "      <td>Rechazo de la devolucion del bien</td>\n",
       "      <td>TEXTIL, CALZADO Y MARROQUINERIA</td>\n",
       "    </tr>\n",
       "    <tr>\n",
       "      <th>33048</th>\n",
       "      <td>30886</td>\n",
       "      <td>2020-09-30 12:26:56</td>\n",
       "      <td>14</td>\n",
       "      <td>Falta de cumplimento garantia posventa</td>\n",
       "      <td>TEXTIL, CALZADO Y MARROQUINERIA</td>\n",
       "    </tr>\n",
       "    <tr>\n",
       "      <th>33049</th>\n",
       "      <td>30886</td>\n",
       "      <td>2020-09-30 12:26:56</td>\n",
       "      <td>14</td>\n",
       "      <td>Demora en la entrega del bien</td>\n",
       "      <td>TEXTIL, CALZADO Y MARROQUINERIA</td>\n",
       "    </tr>\n",
       "    <tr>\n",
       "      <th>33050</th>\n",
       "      <td>30887</td>\n",
       "      <td>2020-09-30 12:27:23</td>\n",
       "      <td>6</td>\n",
       "      <td>Rechazo de la devolucion del bien</td>\n",
       "      <td>MUEBLES</td>\n",
       "    </tr>\n",
       "    <tr>\n",
       "      <th>33051</th>\n",
       "      <td>30887</td>\n",
       "      <td>2020-09-30 12:27:23</td>\n",
       "      <td>6</td>\n",
       "      <td>Falta de cumplimento garantia posventa</td>\n",
       "      <td>MUEBLES</td>\n",
       "    </tr>\n",
       "  </tbody>\n",
       "</table>\n",
       "<p>33052 rows × 5 columns</p>\n",
       "</div>"
      ],
      "text/plain": [
       "       DenunciaID       Fecha_Creacion  Comuna  \\\n",
       "0            1999  2019-01-02 11:07:51      11   \n",
       "1            2000  2019-01-02 11:10:31      11   \n",
       "2            2001  2019-01-02 11:31:03      11   \n",
       "3            2002  2019-01-02 12:19:49      11   \n",
       "4            2003  2019-01-02 15:02:31      11   \n",
       "...           ...                  ...     ...   \n",
       "33047       30886  2020-09-30 12:26:56      14   \n",
       "33048       30886  2020-09-30 12:26:56      14   \n",
       "33049       30886  2020-09-30 12:26:56      14   \n",
       "33050       30887  2020-09-30 12:27:23       6   \n",
       "33051       30887  2020-09-30 12:27:23       6   \n",
       "\n",
       "                                         Motivo_Denuncia  \\\n",
       "0      Garantia de Bienes. Art 11  Ley 24.240 - Falta...   \n",
       "1                 Falta de cumplimento garantia posventa   \n",
       "2                    Practicas Abusivas - Venta Enganosa   \n",
       "3      Garantia de Bienes. Art 11  Ley 24.240 - Repar...   \n",
       "4      Garantia de Bienes. Art 11  Ley 24.240 - Repar...   \n",
       "...                                                  ...   \n",
       "33047                  Rechazo de la devolucion del bien   \n",
       "33048             Falta de cumplimento garantia posventa   \n",
       "33049                      Demora en la entrega del bien   \n",
       "33050                  Rechazo de la devolucion del bien   \n",
       "33051             Falta de cumplimento garantia posventa   \n",
       "\n",
       "                                                   Rubro  \n",
       "0           ELECTRODOMESTICOS Y ARTEFACTOS PARA EL HOGAR  \n",
       "1           ELECTRODOMESTICOS Y ARTEFACTOS PARA EL HOGAR  \n",
       "2      SERVICIOS FINANCIEROS (TARJETAS DE CREDITO, BA...  \n",
       "3           ELECTRODOMESTICOS Y ARTEFACTOS PARA EL HOGAR  \n",
       "4           ELECTRODOMESTICOS Y ARTEFACTOS PARA EL HOGAR  \n",
       "...                                                  ...  \n",
       "33047                    TEXTIL, CALZADO Y MARROQUINERIA  \n",
       "33048                    TEXTIL, CALZADO Y MARROQUINERIA  \n",
       "33049                    TEXTIL, CALZADO Y MARROQUINERIA  \n",
       "33050                                            MUEBLES  \n",
       "33051                                            MUEBLES  \n",
       "\n",
       "[33052 rows x 5 columns]"
      ]
     },
     "execution_count": 3,
     "metadata": {},
     "output_type": "execute_result"
    }
   ],
   "source": [
    "data"
   ]
  },
  {
   "cell_type": "code",
   "execution_count": 4,
   "metadata": {},
   "outputs": [
    {
     "name": "stdout",
     "output_type": "stream",
     "text": [
      "<class 'pandas.core.frame.DataFrame'>\n",
      "RangeIndex: 33052 entries, 0 to 33051\n",
      "Data columns (total 5 columns):\n",
      " #   Column           Non-Null Count  Dtype \n",
      "---  ------           --------------  ----- \n",
      " 0   DenunciaID       33052 non-null  int64 \n",
      " 1   Fecha_Creacion   33052 non-null  object\n",
      " 2   Comuna           33052 non-null  int64 \n",
      " 3   Motivo_Denuncia  33052 non-null  object\n",
      " 4   Rubro            33052 non-null  object\n",
      "dtypes: int64(2), object(3)\n",
      "memory usage: 1.3+ MB\n"
     ]
    }
   ],
   "source": [
    "# Informacion del dataset\n",
    "data.info()"
   ]
  },
  {
   "cell_type": "markdown",
   "metadata": {},
   "source": [
    "Puede observarse que el archivo tiene una cantidad de *33052* filas y *5* columnas y que no posee **ningun valor nulo** en su contenido."
   ]
  },
  {
   "cell_type": "markdown",
   "metadata": {},
   "source": [
    "### A continuación exploramos el archivo para conocer distintos comportamientos"
   ]
  },
  {
   "cell_type": "code",
   "execution_count": 5,
   "metadata": {},
   "outputs": [
    {
     "data": {
      "text/plain": [
       "Index(['DenunciaID', 'Fecha_Creacion', 'Comuna', 'Motivo_Denuncia', 'Rubro'], dtype='object')"
      ]
     },
     "execution_count": 5,
     "metadata": {},
     "output_type": "execute_result"
    }
   ],
   "source": [
    "data.columns"
   ]
  },
  {
   "cell_type": "code",
   "execution_count": 6,
   "metadata": {},
   "outputs": [
    {
     "data": {
      "text/plain": [
       "array(['ELECTRODOMESTICOS Y ARTEFACTOS PARA EL HOGAR',\n",
       "       'SERVICIOS FINANCIEROS (TARJETAS DE CREDITO, BANCOS FINANCIERAS, ETC.)',\n",
       "       'RODADOS, AUTOMOTORES Y EMBARCACIONES',\n",
       "       'SERVICIOS DE COMUNICACIONES',\n",
       "       'Servicios turisticos hoteles, hosterias, albergues, etc.',\n",
       "       'SALUD', 'TELEFONIA Y REDES', 'ALIMENTOS Y BEBIDAS', 'MUEBLES',\n",
       "       'TEXTIL, CALZADO Y MARROQUINERIA',\n",
       "       'SERVICIOS PUBLICOS DOMICILIARIOS',\n",
       "       'SERVICIOS DE TRANSPORTE TERRESTRE DE PASAJEROS Y CARGAS',\n",
       "       'FARMACIA Y PRODUCTOS PARA LA SALUD',\n",
       "       'GESTORIA Y SERVICIOS DE CONSULTORIA',\n",
       "       'PELUQUERIA, DEPILACION, BELLEZA Y BIENESTAR FISICO',\n",
       "       'ALQUILER DE VEHICULOS Y SERVICIO DE REMOLQUE',\n",
       "       'SERVICIOS DE CONSTRUCCION PARA EL HOGAR Y COMERCIALIZACION DE INMUEBLES',\n",
       "       'INFORMATICA',\n",
       "       'REPARACION DE RODADOS, AUTOMOTORES Y EMBARCACIONES',\n",
       "       'SERVICIOS Y EVENTOS DE ESPARCIMIENTO CULTURALES Y/O DEPORTIVOS',\n",
       "       'ARTICULOS DE LECTURA Y AUDIOVISUALES', 'SEGURIDAD',\n",
       "       'LAVANDERIA, TINTORERIA Y LIMPIEZA',\n",
       "       'RELOJERIA, JOYERIA Y TABAQUERIA', 'DEPORTES Y RECREACION',\n",
       "       'CONSTRUCCION Y EQUIPAMIENTO DEL HOGAR',\n",
       "       'SERVICIOS PARA EL AUTOMOTOR', 'ENSEÑANZA', 'BAZAR Y DECORACION',\n",
       "       'PLANTAS Y JARDINERIA', 'PERFUMERIA Y LIMPIEZA', 'COMBUSTIBLES',\n",
       "       'LIBRERIA, PAPELERIA Y COTILLON', 'INSTRUMENTOS MUSICALES',\n",
       "       'GRAFICAS E IMPRESIONES', 'JUEGOS Y JUGUETES',\n",
       "       'COMPRA POR INTERNET', 'ELECTRONICA',\n",
       "       'ESTACIONAMIENTOS Y GUARDAMUEBLES', 'CUIDADO DE PERSONAS',\n",
       "       'SERVICIOS FUNEBRES',\n",
       "       'SERVICIO DE ADMINISTRACION DE RUTAS Y AUTOPISTAS',\n",
       "       'MASCOTAS Y ACCESORIOS', 'SERVICIOS PARA MASCOTAS'], dtype=object)"
      ]
     },
     "execution_count": 6,
     "metadata": {},
     "output_type": "execute_result"
    }
   ],
   "source": [
    "#Observamos los rubros en donde se realizan las denuncias\n",
    "data['Rubro'].unique()"
   ]
  },
  {
   "cell_type": "code",
   "execution_count": 7,
   "metadata": {},
   "outputs": [
    {
     "data": {
      "text/plain": [
       "44"
      ]
     },
     "execution_count": 7,
     "metadata": {},
     "output_type": "execute_result"
    }
   ],
   "source": [
    "#Cantidad de rubros denunciados\n",
    "data['Rubro'].nunique()"
   ]
  },
  {
   "cell_type": "code",
   "execution_count": 8,
   "metadata": {},
   "outputs": [
    {
     "data": {
      "text/plain": [
       "SERVICIOS DE COMUNICACIONES                                              7297\n",
       "SERVICIOS FINANCIEROS (TARJETAS DE CREDITO, BANCOS FINANCIERAS, ETC.)    5764\n",
       "ELECTRODOMESTICOS Y ARTEFACTOS PARA EL HOGAR                             3234\n",
       "TEXTIL, CALZADO Y MARROQUINERIA                                          2497\n",
       "MUEBLES                                                                  1649\n",
       "Name: Rubro, dtype: int64"
      ]
     },
     "execution_count": 8,
     "metadata": {},
     "output_type": "execute_result"
    }
   ],
   "source": [
    "#Los 5 rubros donde se realizan la mayor cantidad de denuncias\n",
    "data['Rubro'].value_counts().nlargest(5)"
   ]
  },
  {
   "cell_type": "code",
   "execution_count": 9,
   "metadata": {
    "scrolled": false
   },
   "outputs": [
    {
     "data": {
      "text/plain": [
       "array(['Garantia de Bienes. Art 11  Ley 24.240 - Falta de suministro de partes y accesorios',\n",
       "       'Falta de cumplimento garantia posventa',\n",
       "       'Practicas Abusivas - Venta Enganosa',\n",
       "       'Garantia de Bienes. Art 11  Ley 24.240 - Reparacion insatisfactoria',\n",
       "       'Problemas de fraude o estafa', 'Falta de Informacion',\n",
       "       'Producto no funciona', 'Entrega Defectuosa - Producto danado',\n",
       "       'Practicas Abusivas - Venta  Enganosa',\n",
       "       'Falta de Entrega del bien',\n",
       "       'Cumplimiento parcial o defectuoso de la prestacion del servicio - Falta de o conectividad deficiente',\n",
       "       'Incumplimiento de Oferta  Promociones y/o Bonificaciones.  Art. 7 de la Ley 24.240',\n",
       "       'Incumplimiento total de la prestacion del servicio  contratado',\n",
       "       'Problemas con la devolucion del bien o el reembolso de sumas - Restricciones abusivas en las modalidades de devolucion o reembolso',\n",
       "       'Clausulas abusivas o no convenidas',\n",
       "       'Incumplimiento de Oferta  Promociones y/o Bonificaciones.  Art. 7 de la Ley 24.241 - Problemas con la devolucion del bien o el reembolso de sumas - restricciones abusivas en las modalidades de devolucion o reembolso',\n",
       "       'Demora en la entrega del bien', 'Precios - Precio excesivo',\n",
       "       'Cumplimiento parcial o defectuoso de la prestacion del servicio - Facturacion excesiva/consumos no realizados',\n",
       "       'Extravio o hurto de mercaderias transportadas',\n",
       "       'Falta de procesamiento de baja del servicio/ gastos asociados',\n",
       "       'No reconocimiento de pagos',\n",
       "       'Precios - Ausencia o falta de exhibicion',\n",
       "       'Deficiente calidad en la prestacion del servicio',\n",
       "       'Cumplimiento parcial o defectuoso de la prestacion del servicio - Tareas o prestaciones pendientes',\n",
       "       'Precios - Aumento no previsto o sin autorizacion contractual o legal',\n",
       "       'Existencia de clausulas ',\n",
       "       'Falta de procesamiento de baja del servicio gastos asociados',\n",
       "       'Cumplimiento parcial o defectuoso de la prestacion del servicio - Demora en el cumplimiento de la prestacion',\n",
       "       'Entrega Defectuosa - Faltante de partes o accesorios',\n",
       "       'Cumplimiento parcial o defectuoso de la prestacion del servicio - Debito de cargos indebidos no solicitados',\n",
       "       'Cumplimiento parcial o defectuoso de la prestacion del servicio - Falta de elaboracion del contrato',\n",
       "       'Falta de entrega del documento de venta del producto: factura, remito, ticket, etc.',\n",
       "       'Cancelacion o supresion de vuelos ',\n",
       "       'Debito o imposicion de seguros no solicitados, convenidos o autorizados',\n",
       "       'Falta de entrega o emision del documento de contratacion del servicio: presupuestos, constancias de pagos,   solicitud de servicios, reglamento general de prestaciones.',\n",
       "       'Incumplimiento de Oferta  Promociones y/o Bonificaciones.  Art. 7 de la Ley 24.241 - Practicas Abusivas - Venta  Enganosa',\n",
       "       'Cumplimiento parcial o defectuoso de la prestacion del servicio - Baja/Alta tension en el suministro electrico',\n",
       "       'Modificacion baja de senales',\n",
       "       'Cancelacion o supresion de vuelos',\n",
       "       'Cumplimiento parcial o defectuoso de la prestacion del servicio - Sin Tono/Linea',\n",
       "       'Cumplimiento parcial o defectuoso de la prestacion del servicio - Interferencias/ Ruidos ',\n",
       "       'Cumplimiento parcial o defectuoso de la prestacion del servicio - Interrupcion o corte de suministro',\n",
       "       'Falta o retencion de Producto - Falta de stock',\n",
       "       'Publicidad  Enganosa',\n",
       "       'Cumplimiento parcial o defectuoso de la prestacion del servicio - Falta de devolucion del deposito en garantia',\n",
       "       'Debitos y/o cobros indebidos',\n",
       "       'Garantia de Bienes. Art 11  Ley 24.240 - Demora excesiva en el cumplimiento de la garantia',\n",
       "       'Cumplimiento parcial o defectuoso de la prestacion del servicio - No reconocimiento del pago de la cuota o de copago',\n",
       "       'Cumplimiento parcial o defectuoso de la prestacion del servicio - Cambios de  ubicacion de la localidad contratada',\n",
       "       'Baja de efectores y/o profesionales de la  cartilla de prestaciones medicas - No notificados con antelacion debida ',\n",
       "       'Cumplimiento parcial o defectuoso de la prestacion del servicio - No reconocimiento  de porcentaje de descuento comprometido en la prestacion o en la provision de la medicacion',\n",
       "       'Practicas Abusivas - Acoso',\n",
       "       'Producto no apto para su destino - Producto mal disenado',\n",
       "       'Falta de informacion/ problemas de facturacion servicios de roaming',\n",
       "       'Debito de servicios no solicitados',\n",
       "       'Cumplimiento parcial o defectuoso de la prestacion del servicio - Suspension de actividades',\n",
       "       'Entrega Defectuosa -  Faltante de partes o accesorios',\n",
       "       'Entrega Defectuosa Falta de genuinidad de productos',\n",
       "       'Rechazo de la devolucion del bien',\n",
       "       'Incumplimiento de Oferta  Promociones y/o Bonificaciones.  Art. 7 de la Ley 24.241 - Precios - Precio excesivo',\n",
       "       'Problemas con la devolucion del bien o el reembolso de sumas - Falta de restitucion del valor de la compra',\n",
       "       'Precios - Precio diferenciado por razones de extranjeria',\n",
       "       'Cobro de gastos de entrega no informados o convenidos',\n",
       "       'Cumplimiento parcial o defectuoso de la prestacion del servicio - Interrupcion de las clases',\n",
       "       'Practicas Abusivas - Maltrato',\n",
       "       'Cumplimiento parcial o defectuoso de la prestacion del servicio - Problemas de medicion en el consumo',\n",
       "       'Cumplimiento parcial o defectuoso de la prestacion del servicio - Impuntualidad',\n",
       "       'Cumplimiento parcial o defectuoso de la prestacion del servicio - Estipulacion de carencias no permitidas para el cumplimiento de la prestacion',\n",
       "       'Cumplimiento parcial o defectuoso de la prestacion del servicio - Percepcion de cargos o adicionales indebidos',\n",
       "       'Entrega Defectuosa Falta de contenido neto del producto',\n",
       "       'Aumento de\\xa0 cuota no autorizado/no notificado con anticipacion debida',\n",
       "       'Bloqueo de la tarjeta',\n",
       "       'Falta o retencion de Producto - Retencion o  acaparamiento',\n",
       "       'Incumplimiento de Oferta  Promociones y/o Bonificaciones.  Art. 7 de la Ley 24.241 - No reconocimiento de pagos',\n",
       "       'Incumplimiento de Oferta  Promociones y/o Bonificaciones.  Art. 7 de la Ley 24.241 - Problemas con la devolucion del bien o el reembolso de sumas - Falta de restitucion del valor de la compra',\n",
       "       'Incumplimiento del servicio',\n",
       "       'Cumplimiento parcial o defectuoso de la prestacion del servicio -  Aumento de cuota por preexistencia no autorizada',\n",
       "       'Incumplimiento de Oferta  Promociones y/o Bonificaciones.  Art. 7 de la Ley 24.241 - Problemas de fraude o estafa',\n",
       "       'Negativa o falta de cobertura  total de la prestacion comprometida',\n",
       "       'Incumplimiento de Garantia de Servicios',\n",
       "       'Entrega Defectuosa -  Producto danado',\n",
       "       'Cumplimiento parcial o defectuoso de la prestacion del servicio - Debitos de cargos indebidos  o no solicitados',\n",
       "       'Incumplimiento de Oferta  Promociones y/o Bonificaciones.  Publicidad  Enganosa',\n",
       "       'Incumplimiento de Oferta Promociones y/o Bonificaciones.  Art. 7 de la Ley 24.240 - ',\n",
       "       'Incumplimiento de Oferta  Promociones y/o Bonificaciones.  Art. 7 de la Ley 24.241 - Practicas Abusivas - Maltrato',\n",
       "       'Cumplimiento parcial o defectuoso de la prestacion del servicio - Danos producidos a los bienes en el transporte',\n",
       "       'Cumplimiento parcial o defectuoso de la prestacion del servicio - Se liga con otra linea frecuentemente',\n",
       "       'Entrega Defectuosa Falta de control bromatologico',\n",
       "       'Cumplimiento parcial o defectuoso de la prestacion del servicio - Extravio o rotura de prendas',\n",
       "       'Debito de gastos o cargos no convenidos o servicios no solicitados',\n",
       "       'Incumplimiento Problemas con la garantia posventa de la terminal celular',\n",
       "       'Incumplimiento de Oferta  Promociones y/o Bonificaciones.  Art. 7 de la Ley 24.241 - Problemas con la devolucion del bien o el reembolso de sumas - Rechazo de la devolucion del bien',\n",
       "       'Cumplimiento parcial o defectuoso de la prestacion del servicio - Danos fisicos derivados de la prestacion del servicio',\n",
       "       'Demora excesiva para el cumplimiento  de prestaciones medicas',\n",
       "       'Producto no apto para su destino -  Producto contaminado',\n",
       "       'Producto con fecha vencida',\n",
       "       'Problemas con la devolucion del bien o el reembolso de sumas -  Restricciones abusivas en las modalidades de devolucion o reembolso',\n",
       "       'Entrega Defectuosa Producto en mal estado',\n",
       "       'Entrega Defectuosa -  Demora en la entrega del bien',\n",
       "       'Cumplimiento parcial o defectuoso de la prestacion del servicio - Negativa  de cobertura o cobertura parcial de protesis u protesis',\n",
       "       'Cumplimiento parcial o defectuoso de la prestacion del servicio - Suministro inadecuado de partes y repuestos',\n",
       "       'Incumplimiento de Oferta  Promociones y/o Bonificaciones.  Art. 7 de la Ley 24.241 - Practicas Abusivas - Acoso',\n",
       "       'Entrega Defectuosa -  Producto no funciona',\n",
       "       'Precios peajes - Precio excesivo',\n",
       "       'Falta o retencion de Producto Retencion o  acaparamiento',\n",
       "       'Cumplimiento parcial o defectuoso de la prestacion del servicio - Baja  presion de gas',\n",
       "       'Cumplimiento parcial o defectuoso de la prestacion del servicio -  Sobreventa de pasajes',\n",
       "       'Entrega Defectuosa Producto contaminado',\n",
       "       'Cumplimiento parcial o defectuoso de la prestacion del servicio - Restriccion de cursos o derechos a examenes por deudas pendientes durante  el ciclo lectivo',\n",
       "       'Incumplimiento de Oferta  Promociones y/o Bonificaciones.  Art. 7 de la Ley 24.241 - Precios - Aumento no previsto o sin autorizacion contractual o legal',\n",
       "       'Incumplimiento programa Plan de Millas', 'Falta de stock',\n",
       "       'Precios -  Aumento no previsto o sin autorizacion contractual o legal',\n",
       "       'Producto no apto para su destino - Producto contaminado',\n",
       "       'Baja de efectores y/o profesionales de la  cartilla de prestaciones medicas - No sustituidos',\n",
       "       'Practicas Abusivas -  Maltrato',\n",
       "       'Problemas con la devolucion del bien o el reembolso de sumas -  Falta de restitucion del valor de la compra',\n",
       "       'Lesion o muerte de pasajeros transportados',\n",
       "       'Falta de restablecimiento de servicio en tiempo y forma',\n",
       "       'Cumplimiento parcial o defectuoso de la prestacion del servicio - Falta de procesamiento de altas / bajas',\n",
       "       'Problemas con la devolucion del bien o el reembolso de sumas - restricciones abusivas en las modalidades de devolucion o reembolso',\n",
       "       'Producto no apto para su destino -  Producto mal disenado',\n",
       "       'Falta de prescripcion de medicamentos por nombre o denominacion generica',\n",
       "       'jdjdjdjd',\n",
       "       'Garantia de Bienes. Art 11  Ley 24.240 -  Falta de cumplimento garantia posventa',\n",
       "       'Falta o retencion de Producto - Faltante generalizado',\n",
       "       'Precios -  Precio excesivo',\n",
       "       'Precios peajes - Aumento no previsto o sin autorizacion contractual o legal',\n",
       "       'Cumplimiento parcial o defectuoso de la prestacion del servicio - Agua turbia o contaminada',\n",
       "       'Entrega Defectuosa -  Carga erronea de fluido',\n",
       "       'Falta o retencion de Producto Faltante generalizado'],\n",
       "      dtype=object)"
      ]
     },
     "execution_count": 9,
     "metadata": {},
     "output_type": "execute_result"
    }
   ],
   "source": [
    "#También podemos observar los motivos de las denuncias\n",
    "data['Motivo_Denuncia'].unique()"
   ]
  },
  {
   "cell_type": "code",
   "execution_count": 10,
   "metadata": {},
   "outputs": [
    {
     "data": {
      "text/plain": [
       "132"
      ]
     },
     "execution_count": 10,
     "metadata": {},
     "output_type": "execute_result"
    }
   ],
   "source": [
    "#Diversa cantidad de motivos\n",
    "data['Motivo_Denuncia'].nunique()"
   ]
  },
  {
   "cell_type": "code",
   "execution_count": 11,
   "metadata": {},
   "outputs": [
    {
     "data": {
      "text/plain": [
       "Incumplimiento total de la prestacion del servicio  contratado    4956\n",
       "Falta de Informacion                                              4542\n",
       "Falta de Entrega del bien                                         3769\n",
       "Deficiente calidad en la prestacion del servicio                  2324\n",
       "Falta de cumplimento garantia posventa                            1556\n",
       "Name: Motivo_Denuncia, dtype: int64"
      ]
     },
     "execution_count": 11,
     "metadata": {},
     "output_type": "execute_result"
    }
   ],
   "source": [
    "#Los 5 motivos por los cuales se realizan la mayor cantidad de denuncias\n",
    "data['Motivo_Denuncia'].value_counts().nlargest(5)"
   ]
  },
  {
   "cell_type": "markdown",
   "metadata": {},
   "source": [
    "**Es normal que en este archivo existan datos duplicados, ya que los motivos o los rubros se repiten. Verificaremos datos duplicados en la fecha de creación y denunciaID para confirmar si una misma persona ha hecho más de una denuncia en un día y por diferentes motivos.**"
   ]
  },
  {
   "cell_type": "code",
   "execution_count": 12,
   "metadata": {},
   "outputs": [
    {
     "data": {
      "text/plain": [
       "False    25834\n",
       "True      7218\n",
       "Name: Fecha_Creacion, dtype: int64"
      ]
     },
     "execution_count": 12,
     "metadata": {},
     "output_type": "execute_result"
    }
   ],
   "source": [
    "#Datos duplicados en la fecha de denuncia\n",
    "data['Fecha_Creacion'].duplicated().value_counts()"
   ]
  },
  {
   "cell_type": "code",
   "execution_count": 13,
   "metadata": {},
   "outputs": [
    {
     "data": {
      "text/plain": [
       "False    25851\n",
       "True      7201\n",
       "Name: DenunciaID, dtype: int64"
      ]
     },
     "execution_count": 13,
     "metadata": {},
     "output_type": "execute_result"
    }
   ],
   "source": [
    "#Datos duplicados de la persona que efectúa la denuncia\n",
    "data['DenunciaID'].duplicated().value_counts()"
   ]
  },
  {
   "cell_type": "markdown",
   "metadata": {},
   "source": [
    "Vemos que la cantidad de duplicados en cada una es prácticamente similar por lo que procederemos a verificar a algún denunciante para confirmarlo."
   ]
  },
  {
   "cell_type": "code",
   "execution_count": 14,
   "metadata": {},
   "outputs": [
    {
     "data": {
      "text/plain": [
       "25055    9\n",
       "24713    7\n",
       "26054    7\n",
       "26260    7\n",
       "27806    7\n",
       "Name: DenunciaID, dtype: int64"
      ]
     },
     "execution_count": 14,
     "metadata": {},
     "output_type": "execute_result"
    }
   ],
   "source": [
    "data['DenunciaID'].value_counts().nlargest(5)"
   ]
  },
  {
   "cell_type": "code",
   "execution_count": 15,
   "metadata": {},
   "outputs": [],
   "source": [
    "#Aplicamos una mascara para el denunciante con más denuncias efectuadas\n",
    "mask1= data['DenunciaID']== 25055"
   ]
  },
  {
   "cell_type": "code",
   "execution_count": 16,
   "metadata": {},
   "outputs": [
    {
     "data": {
      "text/html": [
       "<div>\n",
       "<style scoped>\n",
       "    .dataframe tbody tr th:only-of-type {\n",
       "        vertical-align: middle;\n",
       "    }\n",
       "\n",
       "    .dataframe tbody tr th {\n",
       "        vertical-align: top;\n",
       "    }\n",
       "\n",
       "    .dataframe thead th {\n",
       "        text-align: right;\n",
       "    }\n",
       "</style>\n",
       "<table border=\"1\" class=\"dataframe\">\n",
       "  <thead>\n",
       "    <tr style=\"text-align: right;\">\n",
       "      <th></th>\n",
       "      <th>DenunciaID</th>\n",
       "      <th>Fecha_Creacion</th>\n",
       "      <th>Comuna</th>\n",
       "      <th>Motivo_Denuncia</th>\n",
       "      <th>Rubro</th>\n",
       "    </tr>\n",
       "  </thead>\n",
       "  <tbody>\n",
       "    <tr>\n",
       "      <th>23783</th>\n",
       "      <td>25055</td>\n",
       "      <td>2020-07-03 19:36:15</td>\n",
       "      <td>4</td>\n",
       "      <td>Falta de cumplimento garantia posventa</td>\n",
       "      <td>TEXTIL, CALZADO Y MARROQUINERIA</td>\n",
       "    </tr>\n",
       "    <tr>\n",
       "      <th>23784</th>\n",
       "      <td>25055</td>\n",
       "      <td>2020-07-03 19:36:15</td>\n",
       "      <td>4</td>\n",
       "      <td>Rechazo de la devolucion del bien</td>\n",
       "      <td>TEXTIL, CALZADO Y MARROQUINERIA</td>\n",
       "    </tr>\n",
       "    <tr>\n",
       "      <th>23785</th>\n",
       "      <td>25055</td>\n",
       "      <td>2020-07-03 19:36:15</td>\n",
       "      <td>4</td>\n",
       "      <td>Demora en la entrega del bien</td>\n",
       "      <td>TEXTIL, CALZADO Y MARROQUINERIA</td>\n",
       "    </tr>\n",
       "    <tr>\n",
       "      <th>23786</th>\n",
       "      <td>25055</td>\n",
       "      <td>2020-07-03 19:36:15</td>\n",
       "      <td>4</td>\n",
       "      <td>Cobro de gastos de entrega no informados o con...</td>\n",
       "      <td>TEXTIL, CALZADO Y MARROQUINERIA</td>\n",
       "    </tr>\n",
       "    <tr>\n",
       "      <th>23787</th>\n",
       "      <td>25055</td>\n",
       "      <td>2020-07-03 19:36:15</td>\n",
       "      <td>4</td>\n",
       "      <td>Producto no funciona</td>\n",
       "      <td>TEXTIL, CALZADO Y MARROQUINERIA</td>\n",
       "    </tr>\n",
       "    <tr>\n",
       "      <th>23788</th>\n",
       "      <td>25055</td>\n",
       "      <td>2020-07-03 19:36:15</td>\n",
       "      <td>4</td>\n",
       "      <td>Clausulas abusivas o no convenidas</td>\n",
       "      <td>TEXTIL, CALZADO Y MARROQUINERIA</td>\n",
       "    </tr>\n",
       "    <tr>\n",
       "      <th>23789</th>\n",
       "      <td>25055</td>\n",
       "      <td>2020-07-03 19:36:15</td>\n",
       "      <td>4</td>\n",
       "      <td>Falta de Entrega del bien</td>\n",
       "      <td>TEXTIL, CALZADO Y MARROQUINERIA</td>\n",
       "    </tr>\n",
       "    <tr>\n",
       "      <th>23790</th>\n",
       "      <td>25055</td>\n",
       "      <td>2020-07-03 19:36:15</td>\n",
       "      <td>4</td>\n",
       "      <td>Falta de Informacion</td>\n",
       "      <td>TEXTIL, CALZADO Y MARROQUINERIA</td>\n",
       "    </tr>\n",
       "    <tr>\n",
       "      <th>23791</th>\n",
       "      <td>25055</td>\n",
       "      <td>2020-07-03 19:36:15</td>\n",
       "      <td>4</td>\n",
       "      <td>Falta de entrega del documento de venta del pr...</td>\n",
       "      <td>TEXTIL, CALZADO Y MARROQUINERIA</td>\n",
       "    </tr>\n",
       "  </tbody>\n",
       "</table>\n",
       "</div>"
      ],
      "text/plain": [
       "       DenunciaID       Fecha_Creacion  Comuna  \\\n",
       "23783       25055  2020-07-03 19:36:15       4   \n",
       "23784       25055  2020-07-03 19:36:15       4   \n",
       "23785       25055  2020-07-03 19:36:15       4   \n",
       "23786       25055  2020-07-03 19:36:15       4   \n",
       "23787       25055  2020-07-03 19:36:15       4   \n",
       "23788       25055  2020-07-03 19:36:15       4   \n",
       "23789       25055  2020-07-03 19:36:15       4   \n",
       "23790       25055  2020-07-03 19:36:15       4   \n",
       "23791       25055  2020-07-03 19:36:15       4   \n",
       "\n",
       "                                         Motivo_Denuncia  \\\n",
       "23783             Falta de cumplimento garantia posventa   \n",
       "23784                  Rechazo de la devolucion del bien   \n",
       "23785                      Demora en la entrega del bien   \n",
       "23786  Cobro de gastos de entrega no informados o con...   \n",
       "23787                               Producto no funciona   \n",
       "23788                 Clausulas abusivas o no convenidas   \n",
       "23789                          Falta de Entrega del bien   \n",
       "23790                               Falta de Informacion   \n",
       "23791  Falta de entrega del documento de venta del pr...   \n",
       "\n",
       "                                 Rubro  \n",
       "23783  TEXTIL, CALZADO Y MARROQUINERIA  \n",
       "23784  TEXTIL, CALZADO Y MARROQUINERIA  \n",
       "23785  TEXTIL, CALZADO Y MARROQUINERIA  \n",
       "23786  TEXTIL, CALZADO Y MARROQUINERIA  \n",
       "23787  TEXTIL, CALZADO Y MARROQUINERIA  \n",
       "23788  TEXTIL, CALZADO Y MARROQUINERIA  \n",
       "23789  TEXTIL, CALZADO Y MARROQUINERIA  \n",
       "23790  TEXTIL, CALZADO Y MARROQUINERIA  \n",
       "23791  TEXTIL, CALZADO Y MARROQUINERIA  "
      ]
     },
     "execution_count": 16,
     "metadata": {},
     "output_type": "execute_result"
    }
   ],
   "source": [
    "data[mask1]"
   ]
  },
  {
   "cell_type": "markdown",
   "metadata": {},
   "source": [
    "De esta manera podemos observar que el denunciante con ***ID:25055*** ha hecho una denuncia el mismo día, a la misma hora, en el mismo rubro pero con diversos motivos por lo que el organismo de defensa al consumidor, en su obligación, debe tomar todas las denuncias.\n",
    "\n",
    "Es por ello que para este trabajo en particular los duplicados se tienen en cuenta."
   ]
  },
  {
   "cell_type": "markdown",
   "metadata": {},
   "source": [
    "----"
   ]
  },
  {
   "cell_type": "markdown",
   "metadata": {},
   "source": [
    "**Otro dato a analizar puede ser la cantidad de denuncias que se recibieron el año pasado con respecto a este, diferenciando mes a mes para verificar si tienen un comportamiento balanceado.**"
   ]
  },
  {
   "cell_type": "markdown",
   "metadata": {},
   "source": [
    "En esta sección se utilizará regex para poder extraer el año y el mes de la columna *Fecha_Creacion* de nuestro DataFrame y de esa manera poder hacer un conteo de la cantidad de denuncias realizadas mes a mes."
   ]
  },
  {
   "cell_type": "code",
   "execution_count": 17,
   "metadata": {},
   "outputs": [],
   "source": [
    "#Creamos un patron para poder separar la fecha (año-mes)\n",
    "patron_fecha = r'\\b[0-9]+-[0-9]+\\b'\n",
    "\n",
    "#Creamos un string separado por \"/\" para luego poder aplicar regex\n",
    "string = \"/\".join(data['Fecha_Creacion'])\n",
    "\n",
    "#Aplicamos la funcion findall \n",
    "fechas = re.findall(patron_fecha,string)"
   ]
  },
  {
   "cell_type": "code",
   "execution_count": 18,
   "metadata": {},
   "outputs": [
    {
     "data": {
      "text/plain": [
       "['2019-01',\n",
       " '2019-01',\n",
       " '2019-01',\n",
       " '2019-01',\n",
       " '2019-01',\n",
       " '2019-01',\n",
       " '2019-01',\n",
       " '2019-01',\n",
       " '2019-01',\n",
       " '2019-01']"
      ]
     },
     "execution_count": 18,
     "metadata": {},
     "output_type": "execute_result"
    }
   ],
   "source": [
    "#Mostramos una porción de la lista\n",
    "fechas[:10]"
   ]
  },
  {
   "cell_type": "markdown",
   "metadata": {},
   "source": [
    "Una vez que ya tenemos nuestra lista con las fechas, procederemos a crear dos diccionarios, uno para el 2019 y otro para el 2020 con el conteo de denuncias mes a mes."
   ]
  },
  {
   "cell_type": "code",
   "execution_count": 19,
   "metadata": {},
   "outputs": [],
   "source": [
    "#Creamos nuevamente un string pero ahora con la lista de \"fechas\" para luego poder pasarlo por nuestro diccionario\n",
    "conjunto = '/'.join(fechas)"
   ]
  },
  {
   "cell_type": "code",
   "execution_count": 20,
   "metadata": {
    "scrolled": true
   },
   "outputs": [
    {
     "name": "stdout",
     "output_type": "stream",
     "text": [
      "REGISTRO DENUNCIAS AÑO 2019\n"
     ]
    },
    {
     "data": {
      "text/plain": [
       "{'Enero19': 1028,\n",
       " 'Febrero19': 1228,\n",
       " 'Marzo19': 1191,\n",
       " 'Abril19': 1002,\n",
       " 'Mayo19': 1204,\n",
       " 'Junio19': 1030,\n",
       " 'Julio19': 1232,\n",
       " 'Agosto19': 1167,\n",
       " 'Septiembre19': 1065,\n",
       " 'Octubre19': 1210,\n",
       " 'Noviembre19': 1291,\n",
       " 'Diciembre19': 1271}"
      ]
     },
     "execution_count": 20,
     "metadata": {},
     "output_type": "execute_result"
    }
   ],
   "source": [
    "#Dicionario del registro de denuncias del año 2019\n",
    "registro_2019 = {'Enero19':(re.findall(r'2019-01',conjunto)).count('2019-01'),'Febrero19':(re.findall(r'2019-02',conjunto)).count('2019-02'),'Marzo19':(re.findall(r'2019-03',conjunto)).count('2019-03'),'Abril19':(re.findall(r'2019-04',conjunto)).count('2019-04'),'Mayo19':(re.findall(r'2019-05',conjunto)).count('2019-05'),'Junio19':(re.findall(r'2019-06',conjunto)).count('2019-06'),'Julio19':(re.findall(r'2019-07',conjunto)).count('2019-07'),'Agosto19':(re.findall(r'2019-08',conjunto)).count('2019-08'),'Septiembre19':(re.findall(r'2019-09',conjunto)).count('2019-09'),'Octubre19':(re.findall(r'2019-10',conjunto)).count('2019-10'),'Noviembre19':(re.findall(r'2019-11',conjunto)).count('2019-11'),'Diciembre19':(re.findall(r'2019-12',conjunto)).count('2019-12')}\n",
    "\n",
    "print('REGISTRO DENUNCIAS AÑO 2019')\n",
    "registro_2019"
   ]
  },
  {
   "cell_type": "code",
   "execution_count": 72,
   "metadata": {
    "scrolled": false
   },
   "outputs": [
    {
     "data": {
      "text/plain": [
       "Text(0, 0.5, 'Cantidad de denuncias')"
      ]
     },
     "execution_count": 72,
     "metadata": {},
     "output_type": "execute_result"
    },
    {
     "data": {
      "image/png": "[encoded data removed]",
      "text/plain": [
       "<Figure size 648x432 with 1 Axes>"
      ]
     },
     "metadata": {
      "needs_background": "light"
     },
     "output_type": "display_data"
    }
   ],
   "source": [
    "plt.figure(figsize=(9,6))\n",
    "plt.bar(registro_2019.keys(), registro_2019.values())\n",
    "plt.xticks(rotation=45 )\n",
    "plt.title('REGISTRO DENUNCIAS AÑO 2019')\n",
    "plt.ylabel('Cantidad de denuncias')"
   ]
  },
  {
   "cell_type": "code",
   "execution_count": 21,
   "metadata": {
    "scrolled": true
   },
   "outputs": [
    {
     "name": "stdout",
     "output_type": "stream",
     "text": [
      "REGISTRO DENUNCIAS AÑO 2020\n"
     ]
    },
    {
     "data": {
      "text/plain": [
       "{'Enero20': 1684,\n",
       " 'Febrero20': 1432,\n",
       " 'Marzo20': 890,\n",
       " 'Abril20': 0,\n",
       " 'Mayo20': 0,\n",
       " 'Junio20': 3,\n",
       " 'Julio20': 7437,\n",
       " 'Agosto20': 5390,\n",
       " 'Septiembre20': 2297,\n",
       " 'Octubre20': 'sin analizar',\n",
       " 'Noviembre20': 'sin analizar',\n",
       " 'Diciembre20': 'sin analizar'}"
      ]
     },
     "execution_count": 21,
     "metadata": {},
     "output_type": "execute_result"
    }
   ],
   "source": [
    "registro_2020 = {'Enero20':(re.findall(r'2020-01',conjunto)).count('2020-01'),'Febrero20':(re.findall(r'2020-02',conjunto)).count('2020-02'),'Marzo20':(re.findall(r'2020-03',conjunto)).count('2020-03'),'Abril20':(re.findall(r'2020-04',conjunto)).count('2020-04'),'Mayo20':(re.findall(r'2020-05',conjunto)).count('2020-05'),'Junio20':(re.findall(r'2020-06',conjunto)).count('2020-06'),'Julio20':(re.findall(r'2020-07',conjunto)).count('2020-07'),'Agosto20':(re.findall(r'2020-08',conjunto)).count('2020-08'),'Septiembre20':(re.findall(r'2020-09',conjunto)).count('2020-09'),'Octubre20':'sin analizar','Noviembre20':'sin analizar','Diciembre20':'sin analizar'}\n",
    "\n",
    "print('REGISTRO DENUNCIAS AÑO 2020')\n",
    "registro_2020"
   ]
  },
  {
   "cell_type": "markdown",
   "metadata": {},
   "source": [
    "----"
   ]
  },
  {
   "cell_type": "markdown",
   "metadata": {},
   "source": [
    "### Conclusiones"
   ]
  },
  {
   "cell_type": "markdown",
   "metadata": {},
   "source": [
    "Por lo que se observa en el registro del año 2019 las denuncias fueron parejas a lo largo de todos los meses rondando un número de 1200 por mes.\n",
    "\n",
    "Con lo que respecta al registro del año 2020 (las mediciones llegan hasta septiembre de este año) se ve una marcada diferencia con el año anterior, esto puede ser debido a los motivos de público conocimiento, donde la humanidad atraviesa un año atípico a causa de una pandemia.\n",
    "\n",
    "Se puede llegar a intuir que a razón del Covid-19 y de las restricciones que se tomaron en nuestro país, el organismo de Defensa del Consumidor debe haber funcionado los primeros días de Marzo y luego tuvieron un cierre como tantas otras actividades los meses de Abril, Mayo y Junio donde no se registra ningun caso de denuncia. Pero luego en el mes de Julio se ve un abrupto crecimiento, un aumento de aproximadamente 6 veces comparado a lo normal, debido a que se retomó la actividad. El mes de Agosto siguió alto, y ya Septiembre de a poco se fue acercando más al promedio normal."
   ]
  },
  {
   "cell_type": "markdown",
   "metadata": {},
   "source": [
    "----"
   ]
  },
  {
   "cell_type": "markdown",
   "metadata": {},
   "source": [
    "**Se puede hacer también una observación de los motivos más denunciados en el mes de Julio de 2020:**"
   ]
  },
  {
   "cell_type": "code",
   "execution_count": 22,
   "metadata": {},
   "outputs": [],
   "source": [
    "indicador_fecha = '2020-07'\n",
    "\n",
    "#Creamos una mascara que contenga todos los datos del mes de Julio20\n",
    "mask2 = data['Fecha_Creacion'].str.contains(indicador_fecha)"
   ]
  },
  {
   "cell_type": "code",
   "execution_count": 23,
   "metadata": {},
   "outputs": [],
   "source": [
    "# DataFrame nuevo con las denuncias de Julio20\n",
    "denuncias_julio20 = data[mask2]"
   ]
  },
  {
   "cell_type": "code",
   "execution_count": 24,
   "metadata": {},
   "outputs": [
    {
     "name": "stdout",
     "output_type": "stream",
     "text": [
      "Los 5 motivos mas denunciados en Julio 20:\n"
     ]
    },
    {
     "data": {
      "text/plain": [
       "Falta de Entrega del bien                                         1516\n",
       "Incumplimiento total de la prestacion del servicio  contratado    1325\n",
       "Falta de Informacion                                              1117\n",
       "Deficiente calidad en la prestacion del servicio                   580\n",
       "Demora en la entrega del bien                                      558\n",
       "Name: Motivo_Denuncia, dtype: int64"
      ]
     },
     "execution_count": 24,
     "metadata": {},
     "output_type": "execute_result"
    }
   ],
   "source": [
    "print('Los 5 motivos mas denunciados en Julio 20:')\n",
    "denuncias_julio20['Motivo_Denuncia'].value_counts().nlargest(5)"
   ]
  },
  {
   "cell_type": "code",
   "execution_count": 25,
   "metadata": {},
   "outputs": [
    {
     "data": {
      "text/html": [
       "<div>\n",
       "<style scoped>\n",
       "    .dataframe tbody tr th:only-of-type {\n",
       "        vertical-align: middle;\n",
       "    }\n",
       "\n",
       "    .dataframe tbody tr th {\n",
       "        vertical-align: top;\n",
       "    }\n",
       "\n",
       "    .dataframe thead th {\n",
       "        text-align: right;\n",
       "    }\n",
       "</style>\n",
       "<table border=\"1\" class=\"dataframe\">\n",
       "  <thead>\n",
       "    <tr style=\"text-align: right;\">\n",
       "      <th></th>\n",
       "      <th>DenunciaID</th>\n",
       "      <th>Fecha_Creacion</th>\n",
       "      <th>Comuna</th>\n",
       "      <th>Motivo_Denuncia</th>\n",
       "      <th>Rubro</th>\n",
       "    </tr>\n",
       "  </thead>\n",
       "  <tbody>\n",
       "    <tr>\n",
       "      <th>17961</th>\n",
       "      <td>21396</td>\n",
       "      <td>2020-07-03 09:22:54</td>\n",
       "      <td>4</td>\n",
       "      <td>Falta de Entrega del bien</td>\n",
       "      <td>CONSTRUCCION Y EQUIPAMIENTO DEL HOGAR</td>\n",
       "    </tr>\n",
       "    <tr>\n",
       "      <th>17981</th>\n",
       "      <td>21407</td>\n",
       "      <td>2020-07-03 09:23:22</td>\n",
       "      <td>12</td>\n",
       "      <td>Falta de Entrega del bien</td>\n",
       "      <td>MUEBLES</td>\n",
       "    </tr>\n",
       "    <tr>\n",
       "      <th>17984</th>\n",
       "      <td>21409</td>\n",
       "      <td>2020-07-03 09:25:21</td>\n",
       "      <td>3</td>\n",
       "      <td>Falta de Entrega del bien</td>\n",
       "      <td>ELECTRONICA</td>\n",
       "    </tr>\n",
       "    <tr>\n",
       "      <th>18004</th>\n",
       "      <td>21421</td>\n",
       "      <td>2020-07-03 09:31:30</td>\n",
       "      <td>4</td>\n",
       "      <td>Falta de Entrega del bien</td>\n",
       "      <td>TEXTIL, CALZADO Y MARROQUINERIA</td>\n",
       "    </tr>\n",
       "    <tr>\n",
       "      <th>18008</th>\n",
       "      <td>21424</td>\n",
       "      <td>2020-07-03 09:31:39</td>\n",
       "      <td>6</td>\n",
       "      <td>Falta de Entrega del bien</td>\n",
       "      <td>TEXTIL, CALZADO Y MARROQUINERIA</td>\n",
       "    </tr>\n",
       "    <tr>\n",
       "      <th>18010</th>\n",
       "      <td>21426</td>\n",
       "      <td>2020-07-03 09:31:45</td>\n",
       "      <td>6</td>\n",
       "      <td>Falta de Entrega del bien</td>\n",
       "      <td>DEPORTES Y RECREACION</td>\n",
       "    </tr>\n",
       "    <tr>\n",
       "      <th>18012</th>\n",
       "      <td>21427</td>\n",
       "      <td>2020-07-03 09:31:46</td>\n",
       "      <td>11</td>\n",
       "      <td>Falta de Entrega del bien</td>\n",
       "      <td>BAZAR Y DECORACION</td>\n",
       "    </tr>\n",
       "    <tr>\n",
       "      <th>18013</th>\n",
       "      <td>21428</td>\n",
       "      <td>2020-07-03 09:31:53</td>\n",
       "      <td>6</td>\n",
       "      <td>Falta de Entrega del bien</td>\n",
       "      <td>ALIMENTOS Y BEBIDAS</td>\n",
       "    </tr>\n",
       "    <tr>\n",
       "      <th>18018</th>\n",
       "      <td>21430</td>\n",
       "      <td>2020-07-03 09:31:55</td>\n",
       "      <td>13</td>\n",
       "      <td>Falta de Entrega del bien</td>\n",
       "      <td>CONSTRUCCION Y EQUIPAMIENTO DEL HOGAR</td>\n",
       "    </tr>\n",
       "    <tr>\n",
       "      <th>18021</th>\n",
       "      <td>21433</td>\n",
       "      <td>2020-07-03 09:32:06</td>\n",
       "      <td>14</td>\n",
       "      <td>Falta de Entrega del bien</td>\n",
       "      <td>MUEBLES</td>\n",
       "    </tr>\n",
       "  </tbody>\n",
       "</table>\n",
       "</div>"
      ],
      "text/plain": [
       "       DenunciaID       Fecha_Creacion  Comuna            Motivo_Denuncia  \\\n",
       "17961       21396  2020-07-03 09:22:54       4  Falta de Entrega del bien   \n",
       "17981       21407  2020-07-03 09:23:22      12  Falta de Entrega del bien   \n",
       "17984       21409  2020-07-03 09:25:21       3  Falta de Entrega del bien   \n",
       "18004       21421  2020-07-03 09:31:30       4  Falta de Entrega del bien   \n",
       "18008       21424  2020-07-03 09:31:39       6  Falta de Entrega del bien   \n",
       "18010       21426  2020-07-03 09:31:45       6  Falta de Entrega del bien   \n",
       "18012       21427  2020-07-03 09:31:46      11  Falta de Entrega del bien   \n",
       "18013       21428  2020-07-03 09:31:53       6  Falta de Entrega del bien   \n",
       "18018       21430  2020-07-03 09:31:55      13  Falta de Entrega del bien   \n",
       "18021       21433  2020-07-03 09:32:06      14  Falta de Entrega del bien   \n",
       "\n",
       "                                       Rubro  \n",
       "17961  CONSTRUCCION Y EQUIPAMIENTO DEL HOGAR  \n",
       "17981                                MUEBLES  \n",
       "17984                            ELECTRONICA  \n",
       "18004        TEXTIL, CALZADO Y MARROQUINERIA  \n",
       "18008        TEXTIL, CALZADO Y MARROQUINERIA  \n",
       "18010                  DEPORTES Y RECREACION  \n",
       "18012                     BAZAR Y DECORACION  \n",
       "18013                    ALIMENTOS Y BEBIDAS  \n",
       "18018  CONSTRUCCION Y EQUIPAMIENTO DEL HOGAR  \n",
       "18021                                MUEBLES  "
      ]
     },
     "execution_count": 25,
     "metadata": {},
     "output_type": "execute_result"
    }
   ],
   "source": [
    "#Creamos otra mascara para \"Falta de entrega del bien\" ya que fue el mayor motivo de denuncia de ese mes\n",
    "mask3 = denuncias_julio20['Motivo_Denuncia'] == 'Falta de Entrega del bien'\n",
    "\n",
    "denuncias_julio20[mask3].head(10)"
   ]
  },
  {
   "cell_type": "markdown",
   "metadata": {},
   "source": [
    "**Siguiendo con la conclusión anterior y estudiando en detalle el mes que recibió más denuncias, tiene bastante sentido que el motivo con mayor reclamo haya sido el de \"Falta de entrega del bien\" ya que en época de pandemia la gente se volcó al e-commerce, y debido a cuestiones de tiempo y logística, puede haber provocado inconvenientes en la entrega de productos.**"
   ]
  },
  {
   "cell_type": "markdown",
   "metadata": {},
   "source": [
    "Cabe destacar que todas las conclusiones detalladas en el presente trabajo fueron realizadas por mera observación, exploración e intuición por lo que debería hacerse un estudio en profundidad para verificar todos los datos analizados. "
   ]
  },
  {
   "cell_type": "markdown",
   "metadata": {},
   "source": [
    "----"
   ]
  }
 ],
 "metadata": {
  "kernelspec": {
   "display_name": "Python 3",
   "language": "python",
   "name": "python3"
  },
  "language_info": {
   "codemirror_mode": {
    "name": "ipython",
    "version": 3
   },
   "file_extension": ".py",
   "mimetype": "text/x-python",
   "name": "python",
   "nbconvert_exporter": "python",
   "pygments_lexer": "ipython3",
   "version": "3.8.5"
  }
 },
 "nbformat": 4,
 "nbformat_minor": 4
}
